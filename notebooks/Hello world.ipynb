{
 "cells": [
  {
   "cell_type": "markdown",
   "metadata": {},
   "source": [
    "# Hello World\n",
    "This is the very basic usage of neographviz for visualisations of graphs in jupyter notebooks."
   ]
  },
  {
   "cell_type": "code",
   "execution_count": null,
   "metadata": {},
   "outputs": [],
   "source": [
    "# Basic imports\n",
    "from py2neo import Graph\n",
    "from neographviz import plot, Plot"
   ]
  },
  {
   "cell_type": "markdown",
   "metadata": {},
   "source": [
    "To connect to your own graph use>\n",
    "\n",
    "`graph = Graph() # Create the connection, as you would normally with py2neo if you have it on localhost (>=2020.0)`\n",
    "\n",
    "or storing the details in an other file:\n",
    "\n",
    "```python\n",
    "\n",
    "from secrets import * # all the connection details are in a file like so:\n",
    "\n",
    "# secrets.py\n",
    "user= \"***\"\n",
    "pw=\"***\"\n",
    "host=\"***\"\n",
    "port = 7687\n",
    "dbname = \"neo4j\"\n",
    "credentials=(user,pw)\n",
    "\n",
    "graph = Graph(auth=credentials, host=host, port=port, name=dbname, scheme=\"bolt+ssc\")\n",
    "\n",
    "```\n",
    "\n",
    "for the demo we shall use the demo recomendations graph from neo4j "
   ]
  },
  {
   "cell_type": "raw",
   "metadata": {},
   "source": [
    "from secrets import * # all the connection details are in a file like so:\n",
    "\n",
    "# secrets.py\n",
    "user= \"***\"\n",
    "pw=\"***\"\n",
    "host=\"***\"\n",
    "port = 7687\n",
    "dbname = \"neo4j\"\n",
    "credentials=(user,pw)\n",
    "\n",
    "graph = Graph(auth=credentials, host=host, port=port, name=dbname, scheme=\"bolt+ssc\")"
   ]
  },
  {
   "cell_type": "code",
   "execution_count": null,
   "metadata": {},
   "outputs": [],
   "source": [
    "# Public test graph\n",
    "user= \"recommendations\"\n",
    "pw=\"recommendations\"\n",
    "host=\"demo.neo4jlabs.com\"\n",
    "port = 7687\n",
    "dbname = \"recommendations\"\n",
    "credentials=(user,pw)\n",
    "graph = Graph(auth=credentials, host=host, port=port, name=dbname, scheme=\"bolt+ssc\")# Create the connection, as you would normally with py2neo if you have it on localhost (>=2020.0)"
   ]
  },
  {
   "cell_type": "code",
   "execution_count": null,
   "metadata": {},
   "outputs": [],
   "source": [
    "p = Plot(Graph)"
   ]
  },
  {
   "cell_type": "code",
   "execution_count": null,
   "metadata": {},
   "outputs": [],
   "source": [
    "p = Plot(graph)\n",
    "query = \"match p= (a)--() where id(a)=0  return p limit 5\"\n",
    "sg = graph.run(query).to_subgraph()\n",
    "nodes = p._get_nodes(sg)"
   ]
  },
  {
   "cell_type": "code",
   "execution_count": null,
   "metadata": {},
   "outputs": [],
   "source": [
    "edges = p._get_edges(sg)\n",
    "edges[0].keys()"
   ]
  },
  {
   "cell_type": "markdown",
   "metadata": {},
   "source": [
    "Let's make a basic plot"
   ]
  },
  {
   "cell_type": "code",
   "execution_count": null,
   "metadata": {},
   "outputs": [],
   "source": [
    "plot(graph)"
   ]
  },
  {
   "cell_type": "markdown",
   "metadata": {},
   "source": [
    "Let's make the plot bigger. Hit Shift+O to make the output full size."
   ]
  },
  {
   "cell_type": "code",
   "execution_count": null,
   "metadata": {
    "scrolled": false
   },
   "outputs": [],
   "source": [
    "plot(graph, height=300)"
   ]
  },
  {
   "cell_type": "markdown",
   "metadata": {},
   "source": [
    "Let's look at the docs and what we can do with this little function:"
   ]
  },
  {
   "cell_type": "code",
   "execution_count": null,
   "metadata": {},
   "outputs": [],
   "source": [
    "help(plot)"
   ]
  },
  {
   "cell_type": "code",
   "execution_count": null,
   "metadata": {},
   "outputs": [],
   "source": [
    "plot(graph,\"match p=()--()--() return p limit 25\", font_size=50, node_size=30, height=900)"
   ]
  },
  {
   "cell_type": "code",
   "execution_count": null,
   "metadata": {},
   "outputs": [],
   "source": []
  }
 ],
 "metadata": {
  "interpreter": {
   "hash": "475d081633b5e7b506f39b8c4410b309ea3843ef583ca2a28c4870182ccde86f"
  },
  "kernelspec": {
   "display_name": "Python 3 (ipykernel)",
   "language": "python",
   "name": "python3"
  },
  "language_info": {
   "codemirror_mode": {
    "name": "ipython",
    "version": 3
   },
   "file_extension": ".py",
   "mimetype": "text/x-python",
   "name": "python",
   "nbconvert_exporter": "python",
   "pygments_lexer": "ipython3",
   "version": "3.9.7"
  }
 },
 "nbformat": 4,
 "nbformat_minor": 2
}
